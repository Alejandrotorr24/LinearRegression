{
 "cells": [
  {
   "cell_type": "code",
   "execution_count": null,
   "metadata": {},
   "outputs": [],
   "source": [
    "s = int(input(\"give the num of data: \"))\n",
    "s1 = s\n",
    "add = 1\n",
    "xn = 0\n",
    "y2 = 0\n",
    "yn = 0\n",
    "xi = 0\n",
    "\n",
    "while s >= 1:\n",
    "    print (\"> Give Me The Data Of X\",add,\":\")\n",
    "    x = int(input())\n",
    "    xn = xn + x\n",
    "    xi = xi + (x ** 2)\n",
    "    print (\"> Give Me The Data Of Y\",add,\":\")\n",
    "    y = int(input())\n",
    "    y2 = y2 + y\n",
    "    yn = yn + (x * y2)\n",
    "    add = add + 1\n",
    "    s = s - 1\n",
    "\n",
    "op = xn ** 2\n",
    "xt = (((s1)*(yn)) - ((xn)*(y2))) / (((s1)*(xi)) - ((xn)**2))\n",
    "xt1 = float(xt)\n",
    "yt = ((y2) - ((xt)*(xn))) / (s1)\n",
    "yt1 = float(yt)\n",
    "\n",
    "print(\" Y=\" ,yt,\"+ X=\",xt)"
   ]
  },
  {
   "cell_type": "code",
   "execution_count": null,
   "metadata": {},
   "outputs": [],
   "source": []
  }
 ],
 "metadata": {
  "kernelspec": {
   "display_name": "Python 3",
   "language": "python",
   "name": "python3"
  },
  "language_info": {
   "codemirror_mode": {
    "name": "ipython",
    "version": 3
   },
   "file_extension": ".py",
   "mimetype": "text/x-python",
   "name": "python",
   "nbconvert_exporter": "python",
   "pygments_lexer": "ipython3",
   "version": "3.7.3"
  }
 },
 "nbformat": 4,
 "nbformat_minor": 2
}
